{
 "cells": [
  {
   "cell_type": "markdown",
   "id": "fe6dbaa7",
   "metadata": {},
   "source": [
    "### United Airlined Round 3 Interview: Data Science Case Study\n",
    "\n",
    "#### Submission By: Abdul Hannan\n",
    "\n",
    "#### Date: Sept 14, 2022"
   ]
  },
  {
   "cell_type": "markdown",
   "id": "85e9ae0f",
   "metadata": {},
   "source": [
    "Let us start with importing necessary libraries and reading the data in."
   ]
  },
  {
   "cell_type": "code",
   "execution_count": 1,
   "id": "4c676360",
   "metadata": {},
   "outputs": [],
   "source": [
    "import pandas as pd\n",
    "import numpy as np\n",
    "\n",
    "from sklearn.model_selection import train_test_split\n",
    "from sklearn.ensemble import RandomForestClassifier\n",
    "import matplotlib.pyplot as plt\n",
    "\n",
    "from scipy.stats import ttest_ind\n",
    "import scipy.stats as stats\n",
    "\n",
    "import seaborn as sns\n",
    "\n",
    "from sklearn.feature_selection import SelectKBest, f_regression, mutual_info_regression\n",
    "import matplotlib.pyplot as plt  \n"
   ]
  },
  {
   "cell_type": "code",
   "execution_count": 2,
   "id": "d7fafc21",
   "metadata": {},
   "outputs": [
    {
     "data": {
      "text/html": [
       "<div>\n",
       "<style scoped>\n",
       "    .dataframe tbody tr th:only-of-type {\n",
       "        vertical-align: middle;\n",
       "    }\n",
       "\n",
       "    .dataframe tbody tr th {\n",
       "        vertical-align: top;\n",
       "    }\n",
       "\n",
       "    .dataframe thead th {\n",
       "        text-align: right;\n",
       "    }\n",
       "</style>\n",
       "<table border=\"1\" class=\"dataframe\">\n",
       "  <thead>\n",
       "    <tr style=\"text-align: right;\">\n",
       "      <th></th>\n",
       "      <th>_STATE</th>\n",
       "      <th>FMONTH</th>\n",
       "      <th>IDATE</th>\n",
       "      <th>IMONTH</th>\n",
       "      <th>IDAY</th>\n",
       "      <th>IYEAR</th>\n",
       "      <th>DISPCODE</th>\n",
       "      <th>SEQNO</th>\n",
       "      <th>_PSU</th>\n",
       "      <th>CTELENUM</th>\n",
       "      <th>...</th>\n",
       "      <th>_RFBLDS2</th>\n",
       "      <th>_RFSIGM2</th>\n",
       "      <th>_AIDTST3</th>\n",
       "      <th>_IMPEDUC</th>\n",
       "      <th>_IMPMRTL</th>\n",
       "      <th>_IMPHOME</th>\n",
       "      <th>RCSBRAC1</th>\n",
       "      <th>RCSRACE1</th>\n",
       "      <th>RCHISLA1</th>\n",
       "      <th>RCSBIRTH</th>\n",
       "    </tr>\n",
       "  </thead>\n",
       "  <tbody>\n",
       "    <tr>\n",
       "      <th>0</th>\n",
       "      <td>9.0</td>\n",
       "      <td>5.0</td>\n",
       "      <td>5212014</td>\n",
       "      <td>5</td>\n",
       "      <td>21</td>\n",
       "      <td>2014</td>\n",
       "      <td>1200.0</td>\n",
       "      <td>2.014000e+09</td>\n",
       "      <td>2.014000e+09</td>\n",
       "      <td>1.0</td>\n",
       "      <td>...</td>\n",
       "      <td>NaN</td>\n",
       "      <td>NaN</td>\n",
       "      <td>9.0</td>\n",
       "      <td>6.0</td>\n",
       "      <td>5.0</td>\n",
       "      <td>2.0</td>\n",
       "      <td>NaN</td>\n",
       "      <td>NaN</td>\n",
       "      <td>NaN</td>\n",
       "      <td>NaN</td>\n",
       "    </tr>\n",
       "    <tr>\n",
       "      <th>1</th>\n",
       "      <td>9.0</td>\n",
       "      <td>9.0</td>\n",
       "      <td>10252014</td>\n",
       "      <td>10</td>\n",
       "      <td>25</td>\n",
       "      <td>2014</td>\n",
       "      <td>1200.0</td>\n",
       "      <td>2.014000e+09</td>\n",
       "      <td>2.014000e+09</td>\n",
       "      <td>1.0</td>\n",
       "      <td>...</td>\n",
       "      <td>2.0</td>\n",
       "      <td>1.0</td>\n",
       "      <td>1.0</td>\n",
       "      <td>5.0</td>\n",
       "      <td>2.0</td>\n",
       "      <td>1.0</td>\n",
       "      <td>NaN</td>\n",
       "      <td>NaN</td>\n",
       "      <td>NaN</td>\n",
       "      <td>NaN</td>\n",
       "    </tr>\n",
       "    <tr>\n",
       "      <th>2</th>\n",
       "      <td>9.0</td>\n",
       "      <td>9.0</td>\n",
       "      <td>11082014</td>\n",
       "      <td>11</td>\n",
       "      <td>8</td>\n",
       "      <td>2014</td>\n",
       "      <td>1200.0</td>\n",
       "      <td>2.014000e+09</td>\n",
       "      <td>2.014000e+09</td>\n",
       "      <td>1.0</td>\n",
       "      <td>...</td>\n",
       "      <td>NaN</td>\n",
       "      <td>NaN</td>\n",
       "      <td>2.0</td>\n",
       "      <td>4.0</td>\n",
       "      <td>6.0</td>\n",
       "      <td>1.0</td>\n",
       "      <td>NaN</td>\n",
       "      <td>NaN</td>\n",
       "      <td>NaN</td>\n",
       "      <td>NaN</td>\n",
       "    </tr>\n",
       "    <tr>\n",
       "      <th>3</th>\n",
       "      <td>9.0</td>\n",
       "      <td>9.0</td>\n",
       "      <td>9272014</td>\n",
       "      <td>9</td>\n",
       "      <td>27</td>\n",
       "      <td>2014</td>\n",
       "      <td>1200.0</td>\n",
       "      <td>2.014000e+09</td>\n",
       "      <td>2.014000e+09</td>\n",
       "      <td>1.0</td>\n",
       "      <td>...</td>\n",
       "      <td>2.0</td>\n",
       "      <td>1.0</td>\n",
       "      <td>2.0</td>\n",
       "      <td>6.0</td>\n",
       "      <td>4.0</td>\n",
       "      <td>2.0</td>\n",
       "      <td>NaN</td>\n",
       "      <td>NaN</td>\n",
       "      <td>NaN</td>\n",
       "      <td>NaN</td>\n",
       "    </tr>\n",
       "    <tr>\n",
       "      <th>4</th>\n",
       "      <td>9.0</td>\n",
       "      <td>1.0</td>\n",
       "      <td>1262014</td>\n",
       "      <td>1</td>\n",
       "      <td>26</td>\n",
       "      <td>2014</td>\n",
       "      <td>1200.0</td>\n",
       "      <td>2.014000e+09</td>\n",
       "      <td>2.014000e+09</td>\n",
       "      <td>1.0</td>\n",
       "      <td>...</td>\n",
       "      <td>NaN</td>\n",
       "      <td>NaN</td>\n",
       "      <td>NaN</td>\n",
       "      <td>6.0</td>\n",
       "      <td>1.0</td>\n",
       "      <td>2.0</td>\n",
       "      <td>NaN</td>\n",
       "      <td>NaN</td>\n",
       "      <td>NaN</td>\n",
       "      <td>NaN</td>\n",
       "    </tr>\n",
       "  </tbody>\n",
       "</table>\n",
       "<p>5 rows × 258 columns</p>\n",
       "</div>"
      ],
      "text/plain": [
       "   _STATE  FMONTH     IDATE  IMONTH  IDAY  IYEAR  DISPCODE         SEQNO  \\\n",
       "0     9.0     5.0   5212014       5    21   2014    1200.0  2.014000e+09   \n",
       "1     9.0     9.0  10252014      10    25   2014    1200.0  2.014000e+09   \n",
       "2     9.0     9.0  11082014      11     8   2014    1200.0  2.014000e+09   \n",
       "3     9.0     9.0   9272014       9    27   2014    1200.0  2.014000e+09   \n",
       "4     9.0     1.0   1262014       1    26   2014    1200.0  2.014000e+09   \n",
       "\n",
       "           _PSU  CTELENUM  ...  _RFBLDS2  _RFSIGM2  _AIDTST3  _IMPEDUC  \\\n",
       "0  2.014000e+09       1.0  ...       NaN       NaN       9.0       6.0   \n",
       "1  2.014000e+09       1.0  ...       2.0       1.0       1.0       5.0   \n",
       "2  2.014000e+09       1.0  ...       NaN       NaN       2.0       4.0   \n",
       "3  2.014000e+09       1.0  ...       2.0       1.0       2.0       6.0   \n",
       "4  2.014000e+09       1.0  ...       NaN       NaN       NaN       6.0   \n",
       "\n",
       "   _IMPMRTL  _IMPHOME  RCSBRAC1  RCSRACE1  RCHISLA1  RCSBIRTH  \n",
       "0       5.0       2.0       NaN       NaN       NaN       NaN  \n",
       "1       2.0       1.0       NaN       NaN       NaN       NaN  \n",
       "2       6.0       1.0       NaN       NaN       NaN       NaN  \n",
       "3       4.0       2.0       NaN       NaN       NaN       NaN  \n",
       "4       1.0       2.0       NaN       NaN       NaN       NaN  \n",
       "\n",
       "[5 rows x 258 columns]"
      ]
     },
     "execution_count": 2,
     "metadata": {},
     "output_type": "execute_result"
    }
   ],
   "source": [
    "path = \"C:\\\\Users\\\\hanna\\\\Downloads\\\\United_Airlines_Analytics_Exercise_2022\\\\United_Airlines_Analytics_Exercise\\\\CDC_SURVEY_CT_NJ_NY_2014.txt\"\n",
    "\n",
    "df = pd.read_csv(path, sep=\"\\t\")\n",
    "\n",
    "df.head()"
   ]
  },
  {
   "cell_type": "markdown",
   "id": "89ee4fe9",
   "metadata": {},
   "source": [
    "We see that a lot of our variables are numerical, let us see if we have any that are categorical."
   ]
  },
  {
   "cell_type": "code",
   "execution_count": 3,
   "id": "ba7a5007",
   "metadata": {},
   "outputs": [
    {
     "data": {
      "text/html": [
       "<div>\n",
       "<style scoped>\n",
       "    .dataframe tbody tr th:only-of-type {\n",
       "        vertical-align: middle;\n",
       "    }\n",
       "\n",
       "    .dataframe tbody tr th {\n",
       "        vertical-align: top;\n",
       "    }\n",
       "\n",
       "    .dataframe thead th {\n",
       "        text-align: right;\n",
       "    }\n",
       "</style>\n",
       "<table border=\"1\" class=\"dataframe\">\n",
       "  <thead>\n",
       "    <tr style=\"text-align: right;\">\n",
       "      <th></th>\n",
       "      <th>DLYOTHER</th>\n",
       "    </tr>\n",
       "  </thead>\n",
       "  <tbody>\n",
       "    <tr>\n",
       "      <th>count</th>\n",
       "      <td>794</td>\n",
       "    </tr>\n",
       "    <tr>\n",
       "      <th>unique</th>\n",
       "      <td>686</td>\n",
       "    </tr>\n",
       "    <tr>\n",
       "      <th>top</th>\n",
       "      <td>no insurance</td>\n",
       "    </tr>\n",
       "    <tr>\n",
       "      <th>freq</th>\n",
       "      <td>15</td>\n",
       "    </tr>\n",
       "  </tbody>\n",
       "</table>\n",
       "</div>"
      ],
      "text/plain": [
       "            DLYOTHER\n",
       "count            794\n",
       "unique           686\n",
       "top     no insurance\n",
       "freq              15"
      ]
     },
     "execution_count": 3,
     "metadata": {},
     "output_type": "execute_result"
    }
   ],
   "source": [
    "df.describe(include = 'object')"
   ]
  },
  {
   "cell_type": "markdown",
   "id": "e4153097",
   "metadata": {},
   "source": [
    "- DLYOTHER - Delayed Getting Medical Care Other Response\n"
   ]
  },
  {
   "cell_type": "code",
   "execution_count": 4,
   "id": "a1b3175e",
   "metadata": {},
   "outputs": [
    {
     "data": {
      "text/plain": [
       "no insurance                15\n",
       "cost                        13\n",
       "COST                        12\n",
       "money                        6\n",
       "didnt have time              6\n",
       "                            ..\n",
       " time, work obligations.     1\n",
       "COVERAGE TO CARE FOR MOM     1\n",
       "orm).                        1\n",
       "SCHEDULING OF APPT           1\n",
       "i was just too busy          1\n",
       "Name: DLYOTHER, Length: 686, dtype: int64"
      ]
     },
     "execution_count": 4,
     "metadata": {},
     "output_type": "execute_result"
    }
   ],
   "source": [
    "df['DLYOTHER'].value_counts()"
   ]
  },
  {
   "cell_type": "markdown",
   "id": "17be6db7",
   "metadata": {},
   "source": [
    "We will drop this column for times sake so we do not have to deal with 686 different values (and one hot encoding), When making the train and test sets.\n",
    "\n",
    "Another thing, we need to work on is changing the NaNs values to 0. Otherwise we will get a ValueError."
   ]
  },
  {
   "cell_type": "code",
   "execution_count": 5,
   "id": "b9fae261",
   "metadata": {},
   "outputs": [],
   "source": [
    "df.fillna(0, inplace = True)"
   ]
  },
  {
   "cell_type": "code",
   "execution_count": 6,
   "id": "4fa7bd5d",
   "metadata": {},
   "outputs": [
    {
     "data": {
      "text/html": [
       "<div>\n",
       "<style scoped>\n",
       "    .dataframe tbody tr th:only-of-type {\n",
       "        vertical-align: middle;\n",
       "    }\n",
       "\n",
       "    .dataframe tbody tr th {\n",
       "        vertical-align: top;\n",
       "    }\n",
       "\n",
       "    .dataframe thead th {\n",
       "        text-align: right;\n",
       "    }\n",
       "</style>\n",
       "<table border=\"1\" class=\"dataframe\">\n",
       "  <thead>\n",
       "    <tr style=\"text-align: right;\">\n",
       "      <th></th>\n",
       "      <th>_STATE</th>\n",
       "      <th>FMONTH</th>\n",
       "      <th>IDATE</th>\n",
       "      <th>IMONTH</th>\n",
       "      <th>IDAY</th>\n",
       "      <th>IYEAR</th>\n",
       "      <th>DISPCODE</th>\n",
       "      <th>SEQNO</th>\n",
       "      <th>_PSU</th>\n",
       "      <th>CTELENUM</th>\n",
       "      <th>...</th>\n",
       "      <th>_RFBLDS2</th>\n",
       "      <th>_RFSIGM2</th>\n",
       "      <th>_AIDTST3</th>\n",
       "      <th>_IMPEDUC</th>\n",
       "      <th>_IMPMRTL</th>\n",
       "      <th>_IMPHOME</th>\n",
       "      <th>RCSBRAC1</th>\n",
       "      <th>RCSRACE1</th>\n",
       "      <th>RCHISLA1</th>\n",
       "      <th>RCSBIRTH</th>\n",
       "    </tr>\n",
       "  </thead>\n",
       "  <tbody>\n",
       "    <tr>\n",
       "      <th>0</th>\n",
       "      <td>9.0</td>\n",
       "      <td>5.0</td>\n",
       "      <td>5212014</td>\n",
       "      <td>5</td>\n",
       "      <td>21</td>\n",
       "      <td>2014</td>\n",
       "      <td>1200.0</td>\n",
       "      <td>2.014000e+09</td>\n",
       "      <td>2.014000e+09</td>\n",
       "      <td>1.0</td>\n",
       "      <td>...</td>\n",
       "      <td>0.0</td>\n",
       "      <td>0.0</td>\n",
       "      <td>9.0</td>\n",
       "      <td>6.0</td>\n",
       "      <td>5.0</td>\n",
       "      <td>2.0</td>\n",
       "      <td>0.0</td>\n",
       "      <td>0.0</td>\n",
       "      <td>0.0</td>\n",
       "      <td>0.0</td>\n",
       "    </tr>\n",
       "    <tr>\n",
       "      <th>1</th>\n",
       "      <td>9.0</td>\n",
       "      <td>9.0</td>\n",
       "      <td>10252014</td>\n",
       "      <td>10</td>\n",
       "      <td>25</td>\n",
       "      <td>2014</td>\n",
       "      <td>1200.0</td>\n",
       "      <td>2.014000e+09</td>\n",
       "      <td>2.014000e+09</td>\n",
       "      <td>1.0</td>\n",
       "      <td>...</td>\n",
       "      <td>2.0</td>\n",
       "      <td>1.0</td>\n",
       "      <td>1.0</td>\n",
       "      <td>5.0</td>\n",
       "      <td>2.0</td>\n",
       "      <td>1.0</td>\n",
       "      <td>0.0</td>\n",
       "      <td>0.0</td>\n",
       "      <td>0.0</td>\n",
       "      <td>0.0</td>\n",
       "    </tr>\n",
       "    <tr>\n",
       "      <th>2</th>\n",
       "      <td>9.0</td>\n",
       "      <td>9.0</td>\n",
       "      <td>11082014</td>\n",
       "      <td>11</td>\n",
       "      <td>8</td>\n",
       "      <td>2014</td>\n",
       "      <td>1200.0</td>\n",
       "      <td>2.014000e+09</td>\n",
       "      <td>2.014000e+09</td>\n",
       "      <td>1.0</td>\n",
       "      <td>...</td>\n",
       "      <td>0.0</td>\n",
       "      <td>0.0</td>\n",
       "      <td>2.0</td>\n",
       "      <td>4.0</td>\n",
       "      <td>6.0</td>\n",
       "      <td>1.0</td>\n",
       "      <td>0.0</td>\n",
       "      <td>0.0</td>\n",
       "      <td>0.0</td>\n",
       "      <td>0.0</td>\n",
       "    </tr>\n",
       "  </tbody>\n",
       "</table>\n",
       "<p>3 rows × 258 columns</p>\n",
       "</div>"
      ],
      "text/plain": [
       "   _STATE  FMONTH     IDATE  IMONTH  IDAY  IYEAR  DISPCODE         SEQNO  \\\n",
       "0     9.0     5.0   5212014       5    21   2014    1200.0  2.014000e+09   \n",
       "1     9.0     9.0  10252014      10    25   2014    1200.0  2.014000e+09   \n",
       "2     9.0     9.0  11082014      11     8   2014    1200.0  2.014000e+09   \n",
       "\n",
       "           _PSU  CTELENUM  ...  _RFBLDS2  _RFSIGM2  _AIDTST3  _IMPEDUC  \\\n",
       "0  2.014000e+09       1.0  ...       0.0       0.0       9.0       6.0   \n",
       "1  2.014000e+09       1.0  ...       2.0       1.0       1.0       5.0   \n",
       "2  2.014000e+09       1.0  ...       0.0       0.0       2.0       4.0   \n",
       "\n",
       "   _IMPMRTL  _IMPHOME  RCSBRAC1  RCSRACE1  RCHISLA1  RCSBIRTH  \n",
       "0       5.0       2.0       0.0       0.0       0.0       0.0  \n",
       "1       2.0       1.0       0.0       0.0       0.0       0.0  \n",
       "2       6.0       1.0       0.0       0.0       0.0       0.0  \n",
       "\n",
       "[3 rows x 258 columns]"
      ]
     },
     "execution_count": 6,
     "metadata": {},
     "output_type": "execute_result"
    }
   ],
   "source": [
    "df.head(3)"
   ]
  },
  {
   "cell_type": "markdown",
   "id": "a9de33e8",
   "metadata": {},
   "source": [
    "#### 1) How does health status, represent by average number of days with bad physical health in the past month (PHYSHLTH), differ by state? Provide an indication of distribution using whatever statistics or chars you find suitable."
   ]
  },
  {
   "cell_type": "markdown",
   "id": "3835ac8d",
   "metadata": {},
   "source": [
    "Since we are working with past month, we will work with values from 1 - 30, and remove 77.0, 88.0, 99.0 from the equation. Then we can use groupby function on states to get the values for each state. "
   ]
  },
  {
   "cell_type": "code",
   "execution_count": 7,
   "id": "96bc35b4",
   "metadata": {},
   "outputs": [
    {
     "data": {
      "text/plain": [
       "3"
      ]
     },
     "execution_count": 7,
     "metadata": {},
     "output_type": "execute_result"
    }
   ],
   "source": [
    "len(df['_STATE'].value_counts())"
   ]
  },
  {
   "cell_type": "code",
   "execution_count": 8,
   "id": "b370c675",
   "metadata": {},
   "outputs": [
    {
     "data": {
      "text/plain": [
       "34.0    13045\n",
       "9.0      7950\n",
       "36.0     6865\n",
       "Name: _STATE, dtype: int64"
      ]
     },
     "execution_count": 8,
     "metadata": {},
     "output_type": "execute_result"
    }
   ],
   "source": [
    "df['_STATE'].value_counts()"
   ]
  },
  {
   "cell_type": "code",
   "execution_count": 58,
   "id": "7a8a159c",
   "metadata": {},
   "outputs": [
    {
     "data": {
      "image/png": "[encoded data removed]",
      "text/plain": [
       "<Figure size 504x504 with 1 Axes>"
      ]
     },
     "metadata": {},
     "output_type": "display_data"
    }
   ],
   "source": [
    "#visualization\n",
    "plt.figure(figsize=(7,7))\n",
    "plt.pie(df['_STATE'].value_counts(), labels = ['New Jersey', 'Connecticut', 'New York'], colors = ['cornflowerblue','dodgerblue','deepskyblue'], autopct='%1.1f%%')\n",
    "plt.title('Distribution of State Population',color='black',fontsize=10)\n",
    "plt.show()"
   ]
  },
  {
   "cell_type": "code",
   "execution_count": 10,
   "id": "b04fbf32",
   "metadata": {},
   "outputs": [
    {
     "data": {
      "text/plain": [
       "33"
      ]
     },
     "execution_count": 10,
     "metadata": {},
     "output_type": "execute_result"
    }
   ],
   "source": [
    "len(df['PHYSHLTH'].value_counts())"
   ]
  },
  {
   "cell_type": "code",
   "execution_count": 11,
   "id": "f82adc17",
   "metadata": {},
   "outputs": [
    {
     "data": {
      "text/plain": [
       "30"
      ]
     },
     "execution_count": 11,
     "metadata": {},
     "output_type": "execute_result"
    }
   ],
   "source": [
    "df_filter = df[df['PHYSHLTH'] != 88.0] \n",
    "df_filtere = df_filter[df_filter['PHYSHLTH'] != 77.0] \n",
    "df_filtered = df_filtere[df_filtere['PHYSHLTH'] != 99.0] \n",
    "\n",
    "\n",
    "len(df_filtered['PHYSHLTH'].value_counts())"
   ]
  },
  {
   "cell_type": "code",
   "execution_count": 61,
   "id": "ca49d5b3",
   "metadata": {},
   "outputs": [
    {
     "name": "stdout",
     "output_type": "stream",
     "text": [
      "_STATE\n",
      "9.0     10.430941\n",
      "34.0    11.732769\n",
      "36.0    10.929700\n",
      "Name: PHYSHLTH, dtype: float64\n"
     ]
    },
    {
     "data": {
      "image/png": "[encoded data removed]",
      "text/plain": [
       "<Figure size 432x288 with 1 Axes>"
      ]
     },
     "metadata": {
      "needs_background": "light"
     },
     "output_type": "display_data"
    },
    {
     "name": "stdout",
     "output_type": "stream",
     "text": [
      "Median values Per State\n",
      "_STATE\n",
      "9.0     5.0\n",
      "34.0    6.0\n",
      "36.0    5.0\n",
      "Name: PHYSHLTH, dtype: float64\n"
     ]
    }
   ],
   "source": [
    "print(df_filtered.groupby('_STATE')['PHYSHLTH'].agg(pd.Series.mean))\n",
    "\n",
    "state_health = pd.DataFrame(df_filtered.groupby('_STATE')['PHYSHLTH'].mean())\n",
    "state_health.reset_index(inplace=True)\n",
    "\n",
    "fig, ax = plt.subplots()\n",
    "\n",
    "labels = ('Connecticut', 'New Jersey', 'New York')\n",
    "y_pos = np.arange(len(labels))\n",
    "\n",
    "ax.barh(y_pos, state_health['PHYSHLTH'])\n",
    "ax.set_yticks(y_pos, labels=labels)\n",
    "ax.invert_yaxis()  # labels read top-to-bottom\n",
    "ax.set_xlabel('Physical Health Status')\n",
    "ax.set_ylabel('States')\n",
    "ax.set_title('Health Status by State')\n",
    "plt.show()\n",
    "\n",
    "\n",
    "df_filtered = df_filtered.sort_values(['PHYSHLTH'], ascending=[False])\n",
    "print(\"Median values Per State\")\n",
    "print(df_filtered.groupby('_STATE')['PHYSHLTH'].agg(pd.Series.median))"
   ]
  },
  {
   "cell_type": "markdown",
   "id": "b975c258",
   "metadata": {},
   "source": [
    "ANSWER: While New York (NY) has the most population out of all, a lot of the data is from Jersey. The statistical method I used to find the difference is mean. New Jersey has the worst heath status out of all but only by decimals. "
   ]
  },
  {
   "cell_type": "markdown",
   "id": "5c3081e3",
   "metadata": {},
   "source": [
    "- 9  Connecticut\n",
    "\n",
    "- 34 New Jersey\n",
    "\n",
    "- 36 New York\n"
   ]
  },
  {
   "cell_type": "markdown",
   "id": "dd6b3508",
   "metadata": {},
   "source": [
    "##### 2) How do you know if the above difference between states is statistically significant?"
   ]
  },
  {
   "cell_type": "markdown",
   "id": "ee34cc07",
   "metadata": {},
   "source": [
    "- Research Hypothesis: There is a statistical significance between the states (PHYSHLTH) (If P-value is less than 0.05)\n",
    "- Null Hypothese: There is no statistical significance between the states (PHYSHLTH) (If P-value is greater than 0.05)\n",
    "\n",
    "\n"
   ]
  },
  {
   "cell_type": "code",
   "execution_count": 14,
   "id": "9102ec44",
   "metadata": {},
   "outputs": [
    {
     "data": {
      "text/plain": [
       "F_onewayResult(statistic=12.086743040649436, pvalue=5.72205849728279e-06)"
      ]
     },
     "execution_count": 14,
     "metadata": {},
     "output_type": "execute_result"
    }
   ],
   "source": [
    "c_state = df_filtered[df_filtered['_STATE'] == 9.0]\n",
    "ny_state = df_filtered[df_filtered['_STATE'] == 36.0]\n",
    "nj_state = df_filtered[df_filtered['_STATE'] == 34.0]\n",
    "\n",
    "# Perform the ANOVA\n",
    "stats.f_oneway(c_state['PHYSHLTH'], ny_state['PHYSHLTH'], nj_state['PHYSHLTH'])"
   ]
  },
  {
   "cell_type": "code",
   "execution_count": 15,
   "id": "dbcdf354",
   "metadata": {},
   "outputs": [
    {
     "name": "stdout",
     "output_type": "stream",
     "text": [
      "t-statistic: -1.6629667092157414, p-value: 0.09638028159028383\n",
      "t-statistic: -4.7381497711112335, p-value: 2.2003311846873494e-06\n",
      "t-statistic: -2.888087095607205, p-value: 0.0038881913148048363\n"
     ]
    }
   ],
   "source": [
    "# Test 1 --- connecticut vs ny  -  (NOT SIGNIFICANT)\n",
    "t, p = ttest_ind(c_state['PHYSHLTH'], ny_state['PHYSHLTH'])\n",
    "print(f't-statistic: {t}, p-value: {p}')\n",
    "\n",
    "\n",
    "# Test 2 --- connecticut vs nj  -  (SIGNIFICANT)\n",
    "t, p = ttest_ind(c_state['PHYSHLTH'], nj_state['PHYSHLTH'])\n",
    "print(f't-statistic: {t}, p-value: {p}')\n",
    "\n",
    "\n",
    "# Test 3 --- connecticut vs ny  -  (SIGNIFICANT)\n",
    "t, p = ttest_ind(ny_state['PHYSHLTH'], nj_state['PHYSHLTH'])\n",
    "print(f't-statistic: {t}, p-value: {p}')\n"
   ]
  },
  {
   "cell_type": "markdown",
   "id": "9de04b2c",
   "metadata": {},
   "source": [
    "The ANOVA test output yields an F-statistic of 12.087 and a p-value of 0.00000572205849728279, which is significantly less than our threshold of 0.05, indicating that the difference between states is statistically significant.\n",
    "\n",
    "Another approach was conducting T-test using two groups, hence three test in total. One test (Connecticut & NY) came out to out as having no statistical significance as the P-value was more than 0.05, thus accepting the null hypothesis but not with too much confidence, as the value is still lower than 0.10."
   ]
  },
  {
   "cell_type": "markdown",
   "id": "da0f8a87",
   "metadata": {},
   "source": [
    "#### 3) Digging Deeper into the data, what are the top predictor variables impacting health (i.e. demographics, behaviors, previous illness, etc.)?"
   ]
  },
  {
   "cell_type": "markdown",
   "id": "183c5771",
   "metadata": {},
   "source": [
    "In order to create a model, we will need a training and test set, and we need to get rid of the column with textual data. "
   ]
  },
  {
   "cell_type": "code",
   "execution_count": 18,
   "id": "ee3ea89c",
   "metadata": {},
   "outputs": [],
   "source": [
    "\n",
    "\n",
    "X = df.drop(['PHYSHLTH', 'DLYOTHER'], axis = 1)\n",
    "y = df['PHYSHLTH']\n",
    "\n",
    "X_train, X_test, y_train, y_test = train_test_split(X, y, test_size = 0.3, random_state = 321)\n",
    "\n"
   ]
  },
  {
   "cell_type": "code",
   "execution_count": 34,
   "id": "b7547412",
   "metadata": {},
   "outputs": [
    {
     "name": "stdout",
     "output_type": "stream",
     "text": [
      "\n",
      "\n",
      "train: (19502, 256) (19502,)\n",
      "\n",
      "\n",
      "test (8358, 256) (8358,)\n"
     ]
    },
    {
     "name": "stderr",
     "output_type": "stream",
     "text": [
      "<ipython-input-34-3290129f38ea>:8: FutureWarning: The 'contains' method is deprecated and will be removed in a future version. Use 'key in index' instead of 'index.contains(key)'\n",
      "  X_train.columns.contains('PHYSHLTH')\n"
     ]
    },
    {
     "data": {
      "text/plain": [
       "False"
      ]
     },
     "execution_count": 34,
     "metadata": {},
     "output_type": "execute_result"
    }
   ],
   "source": [
    "print(\"\\n\")\n",
    "print(\"train:\", X_train.shape, y_train.shape) \n",
    "\n",
    "print(\"\\n\")\n",
    "print(\"test\", X_test.shape, y_test.shape) \n",
    "\n",
    "X_train.columns.contains('PHYSHLTH')"
   ]
  },
  {
   "cell_type": "code",
   "execution_count": 50,
   "id": "3f2acef0",
   "metadata": {},
   "outputs": [
    {
     "name": "stdout",
     "output_type": "stream",
     "text": [
      "Feature ranking:\n",
      "Before Deleting the target variable\n",
      "    feature  importance      name\n",
      "0        19    0.145370  MENTHLTH\n",
      "1        18    0.028596  PHYSHLTH\n",
      "2        17    0.025219   GENHLTH\n",
      "3       199    0.018189  _IMPCRAC\n",
      "4       121    0.017165  NOCOV121\n",
      "5         2    0.014719     IDATE\n",
      "6       222    0.013866      HTM4\n",
      "7        56    0.013433  PREGNANT\n",
      "8         4    0.013367      IDAY\n",
      "9         7    0.013345     SEQNO\n",
      "10        8    0.013231      _PSU\n",
      "After Deleting the target variable\n",
      "    feature  importance      name\n",
      "0        19    0.145370  MENTHLTH\n",
      "2        17    0.025219   GENHLTH\n",
      "3       199    0.018189  _IMPCRAC\n",
      "4       121    0.017165  NOCOV121\n",
      "5         2    0.014719     IDATE\n",
      "6       222    0.013866      HTM4\n",
      "7        56    0.013433  PREGNANT\n",
      "8         4    0.013367      IDAY\n",
      "9         7    0.013345     SEQNO\n",
      "10        8    0.013231      _PSU\n"
     ]
    }
   ],
   "source": [
    "rf = RandomForestClassifier()      \n",
    "rf = rf.fit(X_train, y_train)\n",
    "\n",
    "values = rf.feature_importances_\n",
    "ind = np.argsort(values)[::-1]\n",
    "\n",
    "feature = []\n",
    "importance = list()\n",
    "name = []\n",
    "\n",
    "# Print the feature ranking\n",
    "print(\"Feature ranking:\")\n",
    "for i in range(X_train.shape[1]):\n",
    "#     print(f\"{i+1}. feature #{ind[i]} ({values[ind[i]]})\")\n",
    "    feature.append(ind[i])\n",
    "    importance.append(values[ind[i]])\n",
    "    name.append(df.columns[ind[i]])\n",
    "    \n",
    "# Creating a DF with most important features    \n",
    "feature_importance = pd.DataFrame({'feature': feature, 'importance': importance, 'name': name})\n",
    "feature_importance.reset_index(drop=True, inplace=True)\n",
    "\n",
    "feature_importance = pd.DataFrame(feature_importance.sort_values('importance', ascending = False).head(11))\n",
    "\n",
    "print(\"Before Deleting the target variable\")\n",
    "print(feature_importance)\n",
    "\n",
    "feature_importance = feature_importance.drop([1])\n",
    "\n",
    "print(\"After Deleting the target variable\")\n",
    "print(feature_importance)"
   ]
  },
  {
   "cell_type": "code",
   "execution_count": 63,
   "id": "3d52b229",
   "metadata": {},
   "outputs": [
    {
     "name": "stderr",
     "output_type": "stream",
     "text": [
      "C:\\Users\\hanna\\AppData\\Local\\Programs\\Python\\Python38-32\\lib\\site-packages\\seaborn\\_decorators.py:36: FutureWarning: Pass the following variables as keyword args: x, y. From version 0.12, the only valid positional argument will be `data`, and passing other arguments without an explicit keyword will result in an error or misinterpretation.\n",
      "  warnings.warn(\n"
     ]
    },
    {
     "data": {
      "text/plain": [
       "Text(0.5, 1.0, 'RF Feature Importance')"
      ]
     },
     "execution_count": 63,
     "metadata": {},
     "output_type": "execute_result"
    },
    {
     "data": {
      "image/png": "[encoded data removed]",
      "text/plain": [
       "<Figure size 432x288 with 1 Axes>"
      ]
     },
     "metadata": {
      "needs_background": "light"
     },
     "output_type": "display_data"
    }
   ],
   "source": [
    "sns.barplot(feature_importance['importance'][:10], feature_importance['name'][:10])\n",
    "plt.title(\"RF Feature Importance\")"
   ]
  },
  {
   "cell_type": "code",
   "execution_count": 23,
   "id": "9544f23e",
   "metadata": {},
   "outputs": [
    {
     "name": "stdout",
     "output_type": "stream",
     "text": [
      "fs: SelectKBest(score_func=<function f_regression at 0x25E05A48>)\n"
     ]
    },
    {
     "data": {
      "text/html": [
       "<div>\n",
       "<style scoped>\n",
       "    .dataframe tbody tr th:only-of-type {\n",
       "        vertical-align: middle;\n",
       "    }\n",
       "\n",
       "    .dataframe tbody tr th {\n",
       "        vertical-align: top;\n",
       "    }\n",
       "\n",
       "    .dataframe thead th {\n",
       "        text-align: right;\n",
       "    }\n",
       "</style>\n",
       "<table border=\"1\" class=\"dataframe\">\n",
       "  <thead>\n",
       "    <tr style=\"text-align: right;\">\n",
       "      <th></th>\n",
       "      <th>feature</th>\n",
       "      <th>importance</th>\n",
       "      <th>name</th>\n",
       "    </tr>\n",
       "  </thead>\n",
       "  <tbody>\n",
       "    <tr>\n",
       "      <th>19</th>\n",
       "      <td>20</td>\n",
       "      <td>3496.184328</td>\n",
       "      <td>MENTHLTH</td>\n",
       "    </tr>\n",
       "    <tr>\n",
       "      <th>17</th>\n",
       "      <td>18</td>\n",
       "      <td>1888.604456</td>\n",
       "      <td>GENHLTH</td>\n",
       "    </tr>\n",
       "    <tr>\n",
       "      <th>18</th>\n",
       "      <td>19</td>\n",
       "      <td>1318.061468</td>\n",
       "      <td>PHYSHLTH</td>\n",
       "    </tr>\n",
       "    <tr>\n",
       "      <th>205</th>\n",
       "      <td>206</td>\n",
       "      <td>560.507702</td>\n",
       "      <td>_CASTHM1</td>\n",
       "    </tr>\n",
       "    <tr>\n",
       "      <th>199</th>\n",
       "      <td>200</td>\n",
       "      <td>489.431592</td>\n",
       "      <td>_IMPCRAC</td>\n",
       "    </tr>\n",
       "    <tr>\n",
       "      <th>56</th>\n",
       "      <td>57</td>\n",
       "      <td>440.137212</td>\n",
       "      <td>PREGNANT</td>\n",
       "    </tr>\n",
       "    <tr>\n",
       "      <th>118</th>\n",
       "      <td>119</td>\n",
       "      <td>303.147074</td>\n",
       "      <td>HLTHCVR1</td>\n",
       "    </tr>\n",
       "    <tr>\n",
       "      <th>35</th>\n",
       "      <td>36</td>\n",
       "      <td>254.658752</td>\n",
       "      <td>HAVARTH3</td>\n",
       "    </tr>\n",
       "    <tr>\n",
       "      <th>34</th>\n",
       "      <td>35</td>\n",
       "      <td>248.806303</td>\n",
       "      <td>CHCCOPD1</td>\n",
       "    </tr>\n",
       "    <tr>\n",
       "      <th>45</th>\n",
       "      <td>46</td>\n",
       "      <td>245.946130</td>\n",
       "      <td>EDUCA</td>\n",
       "    </tr>\n",
       "  </tbody>\n",
       "</table>\n",
       "</div>"
      ],
      "text/plain": [
       "     feature   importance      name\n",
       "19        20  3496.184328  MENTHLTH\n",
       "17        18  1888.604456   GENHLTH\n",
       "18        19  1318.061468  PHYSHLTH\n",
       "205      206   560.507702  _CASTHM1\n",
       "199      200   489.431592  _IMPCRAC\n",
       "56        57   440.137212  PREGNANT\n",
       "118      119   303.147074  HLTHCVR1\n",
       "35        36   254.658752  HAVARTH3\n",
       "34        35   248.806303  CHCCOPD1\n",
       "45        46   245.946130     EDUCA"
      ]
     },
     "execution_count": 23,
     "metadata": {},
     "output_type": "execute_result"
    }
   ],
   "source": [
    "\n",
    "# configure to select all features\n",
    "fs = SelectKBest(score_func=f_regression, k=10)\n",
    "\n",
    "\n",
    "# learn from training data\n",
    "fs.fit(X_train, y_train)\n",
    "\n",
    "\n",
    "# transform train data\n",
    "X_train_fs = fs.transform(X_train)\n",
    "# transform test data\n",
    "X_test_fs = fs.transform(X_test)\n",
    "\n",
    "\n",
    "# print(f\"X_train: {X_train_fs}\")\n",
    "# print(f\"X_test: {X_test_fs}\")\n",
    "print(f\"fs: {fs}\")\n",
    "\n",
    "\n",
    "\n",
    "feature_1 = []\n",
    "importance_1 = []\n",
    "name_1 = []\n",
    "\n",
    "# what are scores for the features\n",
    "for i in range(len(fs.scores_)):\n",
    "#     print('Feature %d: %f' % (i+1, fs.scores_[i]))\n",
    "    feature_1.append(i+1)\n",
    "    importance_1.append(fs.scores_[i])\n",
    "    name_1.append(df.columns[i])\n",
    "    \n",
    "# Creating a DF with most important features    \n",
    "feature_importance_1 = pd.DataFrame({'feature': feature_1, 'importance': importance_1, 'name': name_1})\n",
    "feature_importance_1.reset_index(drop=True, inplace=True)\n",
    "\n",
    "feature_importance_1.sort_values('importance', ascending = False).head(10)"
   ]
  },
  {
   "cell_type": "code",
   "execution_count": 62,
   "id": "50667548",
   "metadata": {},
   "outputs": [
    {
     "name": "stderr",
     "output_type": "stream",
     "text": [
      "C:\\Users\\hanna\\AppData\\Local\\Programs\\Python\\Python38-32\\lib\\site-packages\\seaborn\\_decorators.py:36: FutureWarning: Pass the following variables as keyword args: x, y. From version 0.12, the only valid positional argument will be `data`, and passing other arguments without an explicit keyword will result in an error or misinterpretation.\n",
      "  warnings.warn(\n"
     ]
    },
    {
     "data": {
      "text/plain": [
       "Text(0.5, 1.0, 'LR Feature Importance')"
      ]
     },
     "execution_count": 62,
     "metadata": {},
     "output_type": "execute_result"
    },
    {
     "data": {
      "image/png": "[encoded data removed]",
      "text/plain": [
       "<Figure size 432x288 with 1 Axes>"
      ]
     },
     "metadata": {
      "needs_background": "light"
     },
     "output_type": "display_data"
    }
   ],
   "source": [
    "sns.barplot(feature_importance['importance'][:10], feature_importance['name'][:10])\n",
    "plt.title(\"LR Feature Importance\")"
   ]
  },
  {
   "cell_type": "markdown",
   "id": "8d9cea49",
   "metadata": {},
   "source": [
    "The top predictor variables impacting health:\n",
    "\n",
    "1. MENTHLTH    - Mental Health\n",
    "2. GENHLTH     - General Health\n",
    "3. _IMPCRAC    - Imputed Child Race/Ethnicity \n",
    "4. NOCOV121    - In the PAST 12 MONTHS, time you did NOT have ANY health insurance or coverage?\n",
    "5. IDATE       - Interview Date\n",
    "6. HTM4        - Reported height in meters\n",
    "7. PREGNANT    - Pregnancy Question \n",
    "8. IDAY        - Interview Day\n",
    "9. SEQNO       - Annual Sequence Number\n",
    "10. _PSU       -  Primary Sampling Unit (Equal to Annual Sequence Number)\n",
    "\n",
    "\n"
   ]
  },
  {
   "cell_type": "markdown",
   "id": "12bb4452",
   "metadata": {},
   "source": [
    "#### 4) If you had additional time, what other types of data mininng techniques and / or analytical modeling would you explore with this dataset?"
   ]
  },
  {
   "cell_type": "markdown",
   "id": "928902c3",
   "metadata": {},
   "source": [
    "I would first start with cleaning the data and dealing with categorical values. Second, I would Standardize the data so we can convert it to a common factor. My next approach would be to conduct a Principle Component Analysis."
   ]
  },
  {
   "cell_type": "code",
   "execution_count": null,
   "id": "8340bbea",
   "metadata": {},
   "outputs": [],
   "source": []
  }
 ],
 "metadata": {
  "kernelspec": {
   "display_name": "Python 3.8.1 32-bit",
   "language": "python",
   "name": "python38132bitacf6368f10534de997906bd48ebbab81"
  },
  "language_info": {
   "codemirror_mode": {
    "name": "ipython",
    "version": 3
   },
   "file_extension": ".py",
   "mimetype": "text/x-python",
   "name": "python",
   "nbconvert_exporter": "python",
   "pygments_lexer": "ipython3",
   "version": "3.8.1"
  }
 },
 "nbformat": 4,
 "nbformat_minor": 5
}
